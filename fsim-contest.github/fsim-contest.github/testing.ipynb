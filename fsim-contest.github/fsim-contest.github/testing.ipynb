{
 "cells": [
  {
   "cell_type": "code",
   "execution_count": 1,
   "id": "f4c2eaa9",
   "metadata": {},
   "outputs": [],
   "source": [
    "#setting libraries\n",
    "import os\n",
    "import re"
   ]
  },
  {
   "cell_type": "code",
   "execution_count": 2,
   "id": "2d78a792",
   "metadata": {},
   "outputs": [],
   "source": [
    "#reading data and separating data into test and bench files\n",
    "tests_files=[a for a in os.listdir('./data.nogit/') if 'test' in a]\n",
    "bench_files=[a for a in os.listdir('./data.nogit/') if 'bench' in a]\n",
    "# os.getcwd()"
   ]
  },
  {
   "cell_type": "code",
   "execution_count": 3,
   "id": "721b295f",
   "metadata": {},
   "outputs": [
    {
     "name": "stdout",
     "output_type": "stream",
     "text": [
      "file: c1908.tests, total bits to work: {'total_bits': 58, 'INPUT': 33, 'OUTPUT': 25}\n",
      "file: c1355.tests, total bits to work: {'total_bits': 73, 'INPUT': 41, 'OUTPUT': 32}\n",
      "file: c6288.tests, total bits to work: {'total_bits': 64, 'INPUT': 32, 'OUTPUT': 32}\n",
      "file: c5315.tests, total bits to work: {'total_bits': 301, 'INPUT': 178, 'OUTPUT': 123}\n",
      "file: c432.tests, total bits to work: {'total_bits': 43, 'INPUT': 36, 'OUTPUT': 7}\n",
      "file: c3540.tests, total bits to work: {'total_bits': 72, 'INPUT': 50, 'OUTPUT': 22}\n",
      "file: c7552.tests, total bits to work: {'total_bits': 315, 'INPUT': 208, 'OUTPUT': 107}\n",
      "file: c17.tests, total bits to work: {'total_bits': 7, 'INPUT': 5, 'OUTPUT': 2}\n",
      "file: c880.tests, total bits to work: {'total_bits': 86, 'INPUT': 60, 'OUTPUT': 26}\n",
      "file: c499.tests, total bits to work: {'total_bits': 73, 'INPUT': 41, 'OUTPUT': 32}\n",
      "file: c2670.tests, total bits to work: {'total_bits': 373, 'INPUT': 309, 'OUTPUT': 64}\n"
     ]
    }
   ],
   "source": [
    "#overview of the test files\n",
    "bits={} #key:file name value:number of bits\n",
    "\n",
    "for a in tests_files:\n",
    "    total_bits=0\n",
    "    n_input=0\n",
    "    n_outpus=0\n",
    "    with open(f'./data.nogit/{a}','r') as file:\n",
    "        while True:\n",
    "            line=file.readline().strip()\n",
    "            if not(line):\n",
    "                break\n",
    "            else: #there's available data to read\n",
    "                total_bits=max(total_bits,len(line))\n",
    "                n_outpus=line.count('-')\n",
    "                n_input=len(line)-n_outpus\n",
    "    bits[a]={\"total_bits\":total_bits,\"INPUT\":n_input,\"OUTPUT\":n_outpus}\n",
    "    file.close()\n",
    "\n",
    "for a,b in bits.items():\n",
    "    print(f'file: {a}, total bits to work: {b}')"
   ]
  },
  {
   "cell_type": "code",
   "execution_count": 4,
   "id": "47289f48",
   "metadata": {},
   "outputs": [],
   "source": [
    "def extract_number_from_string(string:str):\n",
    "    '''\n",
    "    :param str string: the string of values to evaluate\n",
    "    input string to extract the integer value\n",
    "    '''\n",
    "    aux=re.findall(r'(\\d+) \\w+',string)\n",
    "    return int(aux[0])"
   ]
  },
  {
   "cell_type": "code",
   "execution_count": 5,
   "id": "415e42e7",
   "metadata": {},
   "outputs": [
    {
     "name": "stdout",
     "output_type": "stream",
     "text": [
      "read file: c880.bench\n",
      "read file: c432.bench\n",
      "read file: c1355.bench\n",
      "read file: c7552.bench\n",
      "read file: c17.bench\n",
      "read file: c3540.bench\n",
      "read file: c6288.bench\n",
      "read file: c2670.bench\n",
      "read file: c5315.bench\n",
      "read file: c1908.bench\n",
      "read file: c499.bench\n"
     ]
    }
   ],
   "source": [
    "#overview of bench files\n",
    "\n",
    "n_vales={} #key:file_name value:{key: input/output/gates value:read value from file}\n",
    "exp_values={} #key: input/output/gates value:expected number\n",
    "for a in bench_files:\n",
    "    n_vales[a]={}\n",
    "    exp_values[a]={}\n",
    "    aux=0\n",
    "    print(f'read file: {a}')\n",
    "    with open(f'./data.nogit/{a}','r') as file:\n",
    "        while True:\n",
    "            line=file.readline().strip()\n",
    "            if aux>3:\n",
    "                break\n",
    "            if not(line):\n",
    "                aux+=1           \n",
    "                continue\n",
    "            else:\n",
    "                if line[0]=='#': #it show the information about the file\n",
    "                    try:\n",
    "                        exp_values[a][line.split(' ')[2].upper()]=extract_number_from_string(line.lower())\n",
    "                    except:\n",
    "                        continue\n",
    "                else:\n",
    "                    gate_str=\"\".join(filter(str.isalpha,line))\n",
    "                    if gate_str not in n_vales[a]:\n",
    "                        n_vales[a][gate_str]=0\n",
    "                    n_vales[a][gate_str]+=1\n",
    "    file.close()\n"
   ]
  },
  {
   "cell_type": "code",
   "execution_count": 6,
   "id": "ccf86a19",
   "metadata": {},
   "outputs": [
    {
     "name": "stdout",
     "output_type": "stream",
     "text": [
      "c880.bench 383\n",
      "c432.bench 160\n",
      "c1355.bench 546\n",
      "c7552.bench 3512\n",
      "c17.bench 6\n",
      "c3540.bench 1669\n",
      "c6288.bench 2416\n",
      "c2670.bench 1193\n",
      "c5315.bench 2307\n",
      "c1908.bench 880\n",
      "c499.bench 202\n"
     ]
    }
   ],
   "source": [
    "for a,b in n_vales.items():\n",
    "    total_gates=0\n",
    "    for c,d in b.items():\n",
    "        if not(c.lower()=='input'or c.lower()=='output'):\n",
    "            total_gates+=d\n",
    "    print(a,total_gates)"
   ]
  },
  {
   "cell_type": "code",
   "execution_count": 25,
   "id": "2c727638",
   "metadata": {},
   "outputs": [
    {
     "name": "stdout",
     "output_type": "stream",
     "text": [
      "| Bench comment info (INPUT) | Bench rows info (INPUT) | Test rows info(INPUT) | Bench comment info(OUTPUT) | Bench rows info(OUTPUT) | Test rows info(OUTPUT) | \n",
      "|---|---|---|---|---|---\n",
      "| c880 | 60 | 60 | 60 | 26 | 26 | 26 | \n",
      "| c432 | 36 | 36 | 36 | 7 | 7 | 7 | \n",
      "| c1355 | 41 | 41 | 41 | 32 | 32 | 32 | \n",
      "| c7552 | 207 | 207 | 208 | 108 | 108 | 107 | \n",
      "| c17 | 5 | 5 | 5 | 2 | 2 | 2 | \n",
      "| c3540 | 50 | 50 | 50 | 22 | 22 | 22 | \n",
      "| c6288 | 32 | 32 | 32 | 32 | 32 | 32 | \n",
      "| c2670 | 233 | 233 | 309 | 140 | 140 | 64 | \n",
      "| c5315 | 178 | 178 | 178 | 123 | 123 | 123 | \n",
      "| c1908 | 33 | 33 | 33 | 25 | 25 | 25 | \n",
      "| c499 | 41 | 41 | 41 | 32 | 32 | 32 | \n",
      "| "
     ]
    }
   ],
   "source": [
    "#show the expected, counted and real ammounts for inputs, outputs and gates\n",
    "#file: bench expected input, bench counted input, test counted input, bench expected output, bench counted output, test counted output\n",
    "#bits{} for test files\n",
    "#n_vales{} for bench files\n",
    "headers=['Bench comment info (INPUT)','Bench rows info (INPUT)','Test rows info(INPUT)','Bench comment info(OUTPUT)','Bench rows info(OUTPUT)','Test rows info(OUTPUT)']\n",
    "print('|',end=' ')\n",
    "for b in headers:\n",
    "    print(b,end=' | ')\n",
    "print()\n",
    "print('|---'*6)\n",
    "print('|',end=' ')\n",
    "for a in exp_values.keys():\n",
    "    head=a[0:a.index('.')]\n",
    "    bench_index='.'.join([head,'bench'])\n",
    "    text_index='.'.join([head,'tests'])\n",
    "    # print(exp_values[bench_index],n_vales[bench_index],bits[text_index])\n",
    "    io_info=[exp_values[bench_index]['INPUTS'],n_vales[bench_index]['INPUT'],bits[text_index]['INPUT'],exp_values[bench_index]['OUTPUTS'],n_vales[bench_index]['OUTPUT'],bits[text_index]['OUTPUT']]\n",
    "    print(head,end=' | ')\n",
    "    for aux in io_info:\n",
    "        print(aux,end=' | ')\n",
    "    print()\n",
    "    print('|',end=' ')\n"
   ]
  },
  {
   "cell_type": "markdown",
   "id": "6ac2c0a8",
   "metadata": {},
   "source": [
    "Code for running tests\n",
    "Testing will be done with file c17.tests and c17.bench"
   ]
  },
  {
   "cell_type": "code",
   "execution_count": 8,
   "id": "c8b39d0e",
   "metadata": {},
   "outputs": [],
   "source": [
    "test_file='./data.nogit/c17.tests'\n",
    "bench_file='./data.nogit/c17.bench'\n",
    "import time\n",
    "import os\n",
    "\n",
    "os.environ['TZ']='Asia/Tokyo'\n",
    "time.tzset()"
   ]
  },
  {
   "cell_type": "code",
   "execution_count": 9,
   "id": "d99312b7",
   "metadata": {},
   "outputs": [],
   "source": [
    "def log(msg:str):\n",
    "    '''\n",
    "    :param str msg: the message to appear in the log\n",
    "    '''\n",
    "    return f'Local time:{time.asctime()}: {msg}'"
   ]
  },
  {
   "cell_type": "code",
   "execution_count": null,
   "id": "a540b959",
   "metadata": {},
   "outputs": [],
   "source": []
  }
 ],
 "metadata": {
  "kernelspec": {
   "display_name": "Python 3",
   "language": "python",
   "name": "python3"
  },
  "language_info": {
   "codemirror_mode": {
    "name": "ipython",
    "version": 3
   },
   "file_extension": ".py",
   "mimetype": "text/x-python",
   "name": "python",
   "nbconvert_exporter": "python",
   "pygments_lexer": "ipython3",
   "version": "3.12.1"
  }
 },
 "nbformat": 4,
 "nbformat_minor": 5
}
